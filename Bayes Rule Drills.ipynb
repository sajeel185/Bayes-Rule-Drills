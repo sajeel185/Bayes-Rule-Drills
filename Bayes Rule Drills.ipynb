{
 "cells": [
  {
   "cell_type": "markdown",
   "metadata": {},
   "source": [
    "1) P(B) = .98 * .005 + .1 + .995\n",
    "        = 1.099\n",
    "        \n",
    "2) P(B given A) = .98\n",
    "\n",
    "3) Answer is .9 or 90%. Imagine having 100 people who don't have the disease, and when we account for the 10% false positive, we know that when these 100 people take the test, 10 results will show up as incorrectly positive.  leaving us with a 90% probability that we will correctly identify a non-sufferer.\n",
    "\n",
    "4) Misclassifying the person = 1-(.98*.005 + .9*.995)=.0996"
   ]
  }
 ],
 "metadata": {
  "kernelspec": {
   "display_name": "Python 3",
   "language": "python",
   "name": "python3"
  },
  "language_info": {
   "codemirror_mode": {
    "name": "ipython",
    "version": 3
   },
   "file_extension": ".py",
   "mimetype": "text/x-python",
   "name": "python",
   "nbconvert_exporter": "python",
   "pygments_lexer": "ipython3",
   "version": "3.7.0"
  }
 },
 "nbformat": 4,
 "nbformat_minor": 2
}
